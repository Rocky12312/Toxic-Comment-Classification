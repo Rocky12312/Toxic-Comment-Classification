{
  "nbformat": 4,
  "nbformat_minor": 0,
  "metadata": {
    "colab": {
      "name": "Toxic_comment_classification_using_rnn.ipynb",
      "provenance": [],
      "authorship_tag": "ABX9TyOUsdRUFiS265sckb20Qr18",
      "include_colab_link": true
    },
    "kernelspec": {
      "name": "python3",
      "display_name": "Python 3"
    }
  },
  "cells": [
    {
      "cell_type": "markdown",
      "metadata": {
        "id": "view-in-github",
        "colab_type": "text"
      },
      "source": [
        "<a href=\"https://colab.research.google.com/github/Rocky12312/Toxic-Comment-Classification/blob/master/Toxic_comment_classification_using_RNN.ipynb\" target=\"_parent\"><img src=\"https://colab.research.google.com/assets/colab-badge.svg\" alt=\"Open In Colab\"/></a>"
      ]
    },
    {
      "cell_type": "code",
      "metadata": {
        "id": "OPfJFv3J5KBd",
        "colab_type": "code",
        "outputId": "83c462d3-5f87-4f2a-ee9f-96771a286680",
        "colab": {
          "base_uri": "https://localhost:8080/",
          "height": 129
        }
      },
      "source": [
        "from google.colab import drive\n",
        "drive.mount(\"/content/drive\")"
      ],
      "execution_count": 1,
      "outputs": [
        {
          "output_type": "stream",
          "text": [
            "Go to this URL in a browser: https://accounts.google.com/o/oauth2/auth?client_id=947318989803-6bn6qk8qdgf4n4g3pfee6491hc0brc4i.apps.googleusercontent.com&redirect_uri=urn%3aietf%3awg%3aoauth%3a2.0%3aoob&response_type=code&scope=email%20https%3a%2f%2fwww.googleapis.com%2fauth%2fdocs.test%20https%3a%2f%2fwww.googleapis.com%2fauth%2fdrive%20https%3a%2f%2fwww.googleapis.com%2fauth%2fdrive.photos.readonly%20https%3a%2f%2fwww.googleapis.com%2fauth%2fpeopleapi.readonly\n",
            "\n",
            "Enter your authorization code:\n",
            "··········\n",
            "Mounted at /content/drive\n"
          ],
          "name": "stdout"
        }
      ]
    },
    {
      "cell_type": "code",
      "metadata": {
        "id": "d7oPSx57ZWKw",
        "colab_type": "code",
        "outputId": "38b41b31-993e-49ff-c381-ab91af727876",
        "colab": {
          "base_uri": "https://localhost:8080/",
          "height": 35
        }
      },
      "source": [
        "cd drive/My\\ Drive/Toxic_comment_classification"
      ],
      "execution_count": 2,
      "outputs": [
        {
          "output_type": "stream",
          "text": [
            "/content/drive/My Drive/Toxic_comment_classification\n"
          ],
          "name": "stdout"
        }
      ]
    },
    {
      "cell_type": "code",
      "metadata": {
        "id": "dhjuSVuKbSSu",
        "colab_type": "code",
        "colab": {}
      },
      "source": [
        "import re\n",
        "import os\n",
        "import sys\n",
        "import string\n",
        "import numpy as np\n",
        "import pandas as pd\n",
        "import matplotlib.pyplot as plt\n",
        "%matplotlib inline"
      ],
      "execution_count": 0,
      "outputs": []
    },
    {
      "cell_type": "markdown",
      "metadata": {
        "id": "Gpeql4Poe4wl",
        "colab_type": "text"
      },
      "source": [
        "Reading the data from train.csv containing the comments and their corresponding labels"
      ]
    },
    {
      "cell_type": "code",
      "metadata": {
        "id": "F-fp1u2xbi_L",
        "colab_type": "code",
        "outputId": "4675b821-004b-43d1-e4ec-465da210ba3a",
        "colab": {
          "base_uri": "https://localhost:8080/",
          "height": 206
        }
      },
      "source": [
        "df = pd.read_csv(\"train.csv\")\n",
        "df.head(5)"
      ],
      "execution_count": 4,
      "outputs": [
        {
          "output_type": "execute_result",
          "data": {
            "text/html": [
              "<div>\n",
              "<style scoped>\n",
              "    .dataframe tbody tr th:only-of-type {\n",
              "        vertical-align: middle;\n",
              "    }\n",
              "\n",
              "    .dataframe tbody tr th {\n",
              "        vertical-align: top;\n",
              "    }\n",
              "\n",
              "    .dataframe thead th {\n",
              "        text-align: right;\n",
              "    }\n",
              "</style>\n",
              "<table border=\"1\" class=\"dataframe\">\n",
              "  <thead>\n",
              "    <tr style=\"text-align: right;\">\n",
              "      <th></th>\n",
              "      <th>id</th>\n",
              "      <th>comment_text</th>\n",
              "      <th>toxic</th>\n",
              "      <th>severe_toxic</th>\n",
              "      <th>obscene</th>\n",
              "      <th>threat</th>\n",
              "      <th>insult</th>\n",
              "      <th>identity_hate</th>\n",
              "    </tr>\n",
              "  </thead>\n",
              "  <tbody>\n",
              "    <tr>\n",
              "      <th>0</th>\n",
              "      <td>0000997932d777bf</td>\n",
              "      <td>Explanation\\nWhy the edits made under my usern...</td>\n",
              "      <td>0</td>\n",
              "      <td>0</td>\n",
              "      <td>0</td>\n",
              "      <td>0</td>\n",
              "      <td>0</td>\n",
              "      <td>0</td>\n",
              "    </tr>\n",
              "    <tr>\n",
              "      <th>1</th>\n",
              "      <td>000103f0d9cfb60f</td>\n",
              "      <td>D'aww! He matches this background colour I'm s...</td>\n",
              "      <td>0</td>\n",
              "      <td>0</td>\n",
              "      <td>0</td>\n",
              "      <td>0</td>\n",
              "      <td>0</td>\n",
              "      <td>0</td>\n",
              "    </tr>\n",
              "    <tr>\n",
              "      <th>2</th>\n",
              "      <td>000113f07ec002fd</td>\n",
              "      <td>Hey man, I'm really not trying to edit war. It...</td>\n",
              "      <td>0</td>\n",
              "      <td>0</td>\n",
              "      <td>0</td>\n",
              "      <td>0</td>\n",
              "      <td>0</td>\n",
              "      <td>0</td>\n",
              "    </tr>\n",
              "    <tr>\n",
              "      <th>3</th>\n",
              "      <td>0001b41b1c6bb37e</td>\n",
              "      <td>\"\\nMore\\nI can't make any real suggestions on ...</td>\n",
              "      <td>0</td>\n",
              "      <td>0</td>\n",
              "      <td>0</td>\n",
              "      <td>0</td>\n",
              "      <td>0</td>\n",
              "      <td>0</td>\n",
              "    </tr>\n",
              "    <tr>\n",
              "      <th>4</th>\n",
              "      <td>0001d958c54c6e35</td>\n",
              "      <td>You, sir, are my hero. Any chance you remember...</td>\n",
              "      <td>0</td>\n",
              "      <td>0</td>\n",
              "      <td>0</td>\n",
              "      <td>0</td>\n",
              "      <td>0</td>\n",
              "      <td>0</td>\n",
              "    </tr>\n",
              "  </tbody>\n",
              "</table>\n",
              "</div>"
            ],
            "text/plain": [
              "                 id  ... identity_hate\n",
              "0  0000997932d777bf  ...             0\n",
              "1  000103f0d9cfb60f  ...             0\n",
              "2  000113f07ec002fd  ...             0\n",
              "3  0001b41b1c6bb37e  ...             0\n",
              "4  0001d958c54c6e35  ...             0\n",
              "\n",
              "[5 rows x 8 columns]"
            ]
          },
          "metadata": {
            "tags": []
          },
          "execution_count": 4
        }
      ]
    },
    {
      "cell_type": "code",
      "metadata": {
        "id": "P24PA6dVg1yo",
        "colab_type": "code",
        "outputId": "a6b98835-22db-4a9b-c94d-41175a259db6",
        "colab": {
          "base_uri": "https://localhost:8080/",
          "height": 182
        }
      },
      "source": [
        "df.isnull().sum()"
      ],
      "execution_count": 5,
      "outputs": [
        {
          "output_type": "execute_result",
          "data": {
            "text/plain": [
              "id               0\n",
              "comment_text     0\n",
              "toxic            0\n",
              "severe_toxic     0\n",
              "obscene          0\n",
              "threat           0\n",
              "insult           0\n",
              "identity_hate    0\n",
              "dtype: int64"
            ]
          },
          "metadata": {
            "tags": []
          },
          "execution_count": 5
        }
      ]
    },
    {
      "cell_type": "code",
      "metadata": {
        "id": "zUjUhE9sg7o7",
        "colab_type": "code",
        "outputId": "3d730d63-85f1-41df-9b90-c806b3351855",
        "colab": {
          "base_uri": "https://localhost:8080/",
          "height": 293
        }
      },
      "source": [
        "#Getting infor the dataframe\n",
        "df.info()"
      ],
      "execution_count": 6,
      "outputs": [
        {
          "output_type": "stream",
          "text": [
            "<class 'pandas.core.frame.DataFrame'>\n",
            "RangeIndex: 159571 entries, 0 to 159570\n",
            "Data columns (total 8 columns):\n",
            " #   Column         Non-Null Count   Dtype \n",
            "---  ------         --------------   ----- \n",
            " 0   id             159571 non-null  object\n",
            " 1   comment_text   159571 non-null  object\n",
            " 2   toxic          159571 non-null  int64 \n",
            " 3   severe_toxic   159571 non-null  int64 \n",
            " 4   obscene        159571 non-null  int64 \n",
            " 5   threat         159571 non-null  int64 \n",
            " 6   insult         159571 non-null  int64 \n",
            " 7   identity_hate  159571 non-null  int64 \n",
            "dtypes: int64(6), object(2)\n",
            "memory usage: 9.7+ MB\n"
          ],
          "name": "stdout"
        }
      ]
    },
    {
      "cell_type": "markdown",
      "metadata": {
        "id": "EWZoRm4yhJVu",
        "colab_type": "text"
      },
      "source": [
        "From the data info and null status it is clear that our data contains 1,59,571 records and there is no null value in our data so we need not to care about impytations and other such stuff"
      ]
    },
    {
      "cell_type": "code",
      "metadata": {
        "id": "wqxLudmKbnf6",
        "colab_type": "code",
        "colab": {}
      },
      "source": [
        "#Replacing all the nan with the dummy values if there are any\n",
        "sentences = df[\"comment_text\"].fillna(\"Dummy_Value\").values\n",
        "#This sentences is our input data which we will be feeding to our model after preprocessing the data\n",
        "target = df[[\"toxic\",\"severe_toxic\",\"obscene\",\"threat\",\"insult\",\"identity_hate\"]].values"
      ],
      "execution_count": 0,
      "outputs": []
    },
    {
      "cell_type": "markdown",
      "metadata": {
        "id": "F3IGJWk_eBB5",
        "colab_type": "text"
      },
      "source": [
        "One of the main thing in this problem is that we have 6 label in our output and we need to classify our comment in all of them(means we have to give the status of each and every label corresponding to the comment)\n",
        "\n",
        "Our output is N*6, where N is the number of samples or say the records in our data and 6 are the labels."
      ]
    },
    {
      "cell_type": "markdown",
      "metadata": {
        "id": "J7xNZ--bfQUA",
        "colab_type": "text"
      },
      "source": [
        "Now getting the maximum,minimum and median sequence length from our sentences"
      ]
    },
    {
      "cell_type": "code",
      "metadata": {
        "id": "4n1tBrV-fZbn",
        "colab_type": "code",
        "outputId": "0474d922-4c5e-45d2-ca59-9b6264c003bf",
        "colab": {
          "base_uri": "https://localhost:8080/",
          "height": 72
        }
      },
      "source": [
        "print(\"Maximum sequence length: \",max(len(s) for s in sentences))\n",
        "print(\"Minimum sequence length: \",min(len(s) for s in sentences))\n",
        "seq_len = sorted(len(s) for s in sentences)\n",
        "print(\"Median sequence length: \",seq_len[len(seq_len)//2])"
      ],
      "execution_count": 8,
      "outputs": [
        {
          "output_type": "stream",
          "text": [
            "Maximum sequence length:  5000\n",
            "Minimum sequence length:  6\n",
            "Median sequence length:  205\n"
          ],
          "name": "stdout"
        }
      ]
    },
    {
      "cell_type": "markdown",
      "metadata": {
        "id": "L6m47otmigdg",
        "colab_type": "text"
      },
      "source": [
        "  Now it is clear that our maximum sequence length and minimum sequence length are far apart from each other so we need to take this variation our consideration and convert each and every comment to a fixed length by padding"
      ]
    },
    {
      "cell_type": "markdown",
      "metadata": {
        "id": "gnFElkEWjJo8",
        "colab_type": "text"
      },
      "source": [
        "The first thing which we shoul do is preprocess our text and male it free from stopwords,punctuations etc"
      ]
    },
    {
      "cell_type": "code",
      "metadata": {
        "id": "r79tnP2cjJDX",
        "colab_type": "code",
        "colab": {}
      },
      "source": [
        "def preprocessing_text(text_data):\n",
        "  for i in range(len(text_data)):\n",
        "    #Lowering the text\n",
        "    text = text_data[i].lower()\n",
        "    #Splitting the text into tokens\n",
        "    tokens = text.split()\n",
        "    #Preparing regex for character filtering\n",
        "    re_punct = re.compile(\"[%s]\"% re.escape(string.punctuation))\n",
        "    tokens = [re_punct.sub(\" \", word) for word in tokens]\n",
        "    #Removing stopwords\n",
        "    tokens = [word for word in tokens if word not in set(stopwords.words(\"english\"))]\n",
        "    #Now joining tokens back to form sentence\n",
        "    text_data[i] = \" \".join(tokens)\n",
        "  return text_data"
      ],
      "execution_count": 0,
      "outputs": []
    },
    {
      "cell_type": "code",
      "metadata": {
        "id": "-UOEJDH9lxII",
        "colab_type": "code",
        "outputId": "fdea8042-e07c-436e-e66e-efc55af50c20",
        "colab": {
          "base_uri": "https://localhost:8080/",
          "height": 54
        }
      },
      "source": [
        "#Now preprocessing our text_data\n",
        "import nltk\n",
        "nltk.download(\"stopwords\")\n",
        "from nltk.corpus import stopwords\n",
        "comment_sentences = preprocessing_text(sentences)"
      ],
      "execution_count": 10,
      "outputs": [
        {
          "output_type": "stream",
          "text": [
            "[nltk_data] Downloading package stopwords to /root/nltk_data...\n",
            "[nltk_data]   Unzipping corpora/stopwords.zip.\n"
          ],
          "name": "stdout"
        }
      ]
    },
    {
      "cell_type": "markdown",
      "metadata": {
        "id": "WFO02YaTmanq",
        "colab_type": "text"
      },
      "source": [
        "Now the next thing which we will be doing is tokenizing using tokenizer so as to convert each and every sentence to a vector of their index numbers"
      ]
    },
    {
      "cell_type": "markdown",
      "metadata": {
        "id": "beM4Dn0bnhET",
        "colab_type": "text"
      },
      "source": [
        "Here in tokenizer we have to also input the size of vocabulary which we will be using for text to numeric conversion\n",
        "\n",
        "Taking maximum vocabulary size to be 20000 and its upon us to take whatever we want but the best choice of vocab size found upto now is 20000"
      ]
    },
    {
      "cell_type": "code",
      "metadata": {
        "id": "mXtf1BiTH1v_",
        "colab_type": "code",
        "outputId": "90e82730-6e95-42e2-8223-743fdd9580f7",
        "colab": {
          "base_uri": "https://localhost:8080/",
          "height": 35
        }
      },
      "source": [
        "from keras.preprocessing.text import Tokenizer\n",
        "Max_vocab_size = 20000\n",
        "tokenizer = Tokenizer(num_words = Max_vocab_size)\n",
        "#Now fitting tokenizer on our input data\n",
        "tokenizer.fit_on_texts(comment_sentences)\n",
        "#Converting each and every sentence to a vector of their word index(replacing word with their indexes)\n",
        "sequences = tokenizer.texts_to_sequences(comment_sentences)"
      ],
      "execution_count": 11,
      "outputs": [
        {
          "output_type": "stream",
          "text": [
            "Using TensorFlow backend.\n"
          ],
          "name": "stderr"
        }
      ]
    },
    {
      "cell_type": "code",
      "metadata": {
        "id": "lFcvg2DjoCiq",
        "colab_type": "code",
        "colab": {}
      },
      "source": [
        "#Our tokenizer also provide us something which help in integer to word mapping\n",
        "word2idx = tokenizer.word_index"
      ],
      "execution_count": 0,
      "outputs": []
    },
    {
      "cell_type": "markdown",
      "metadata": {
        "id": "oFFyovv8oc5x",
        "colab_type": "text"
      },
      "source": [
        "Now as we have a vector corresponding to each sentences so next we gonna be embedding each and every word to some vector in multidimensional space either by training our own word embedding or by using some pretrained word embedding like glove etc"
      ]
    },
    {
      "cell_type": "code",
      "metadata": {
        "id": "0ZyZ5IuUo7oR",
        "colab_type": "code",
        "outputId": "c176f895-e151-4f96-eeb0-a6fc8eadd273",
        "colab": {
          "base_uri": "https://localhost:8080/",
          "height": 35
        }
      },
      "source": [
        "#Here we will be using Glove word vectors\n",
        "#First creating a dictonary of word to vectors(initializing a empty dictionary)\n",
        "word2vec = {}\n",
        "with open(os.path.join(\"glove.6B.100d.txt\")) as f:\n",
        "  for line in f:\n",
        "    values = line.split()\n",
        "    word = values[0]\n",
        "    vec = np.asarray(values[1:],dtype = \"float32\")\n",
        "    word2vec[word] = vec\n",
        "print(\"No of word to vectors in glove word 2 vec: \",len(word2vec))\n",
        "#So here basically we created a dictionary having words as index and corresponding vectors as values"
      ],
      "execution_count": 13,
      "outputs": [
        {
          "output_type": "stream",
          "text": [
            "No of word to vectors in glove word 2 vec:  400000\n"
          ],
          "name": "stdout"
        }
      ]
    },
    {
      "cell_type": "markdown",
      "metadata": {
        "id": "RVKVXoyyrZVs",
        "colab_type": "text"
      },
      "source": [
        "Now next step which we gonna do is create a embedding matrix which we will use for mapping each of the word of our sentence to a vector "
      ]
    },
    {
      "cell_type": "code",
      "metadata": {
        "id": "LzFKPatIr3Pv",
        "colab_type": "code",
        "colab": {}
      },
      "source": [
        "#These num_words will be our vocabulary size\n",
        "#Embedding_dim will be the size of our embeddings(word vectors), which will be 100 as in glove 100d each word contain a corresponding vector of 100d\n",
        "num_words = min(Max_vocab_size,len(word2idx)+1)\n",
        "Embedding_dim = 100\n",
        "embedding_matrix = np.zeros((num_words,Embedding_dim))\n",
        "for word,i in word2idx.items():\n",
        "  if i<Max_vocab_size:\n",
        "    embedding_vector = word2vec.get(word)\n",
        "    if embedding_vector is not None:\n",
        "      embedding_matrix[i] = embedding_vector\n",
        "#This is the way we gonna fill our embedding matrix with word vectors"
      ],
      "execution_count": 0,
      "outputs": []
    },
    {
      "cell_type": "code",
      "metadata": {
        "id": "F_pd9zGIv7JD",
        "colab_type": "code",
        "outputId": "f3284683-591d-4a1f-9800-0414f8fbb4cf",
        "colab": {
          "base_uri": "https://localhost:8080/",
          "height": 184
        }
      },
      "source": [
        "comment_sentences"
      ],
      "execution_count": 15,
      "outputs": [
        {
          "output_type": "execute_result",
          "data": {
            "text/plain": [
              "array(['explanation edits made username hardcore metallica fan reverted  weren t vandalisms  closure gas voted new york dolls fac  please don t remove template talk page since i m retired now 89 205 38 27',\n",
              "       'd aww  matches background colour i m seemingly stuck with  thanks   talk  21 51  january 11  2016  utc ',\n",
              "       'hey man  i m really trying edit war  it s guy constantly removing relevant information talking edits instead talk page  seems care formatting actual info ',\n",
              "       ...,\n",
              "       'spitzer umm  theres actual article prostitution ring    crunch captain ',\n",
              "       'looks like actually put speedy first version deleted look it ',\n",
              "       '      really don t think understand  came idea bad right away  kind community goes   you bad ideas   go away  instead helping rewrite them   '],\n",
              "      dtype=object)"
            ]
          },
          "metadata": {
            "tags": []
          },
          "execution_count": 15
        }
      ]
    },
    {
      "cell_type": "markdown",
      "metadata": {
        "id": "QBSXqlDVt4HE",
        "colab_type": "text"
      },
      "source": [
        "Now one of the most important thing is to pad the input so that they all have same length"
      ]
    },
    {
      "cell_type": "code",
      "metadata": {
        "id": "1WE1zLwvrYnM",
        "colab_type": "code",
        "colab": {}
      },
      "source": [
        "from keras.preprocessing.sequence import pad_sequences\n",
        "#Here we have to define a maximum sequence length so that each sequences can be bought to this length\n",
        "Max_sequence_length = 100\n",
        "#100 randomly choosen\n",
        "comment_sen = pad_sequences(sequences,maxlen = Max_sequence_length)\n",
        "#Now this comment_sen will be our input data"
      ],
      "execution_count": 0,
      "outputs": []
    },
    {
      "cell_type": "markdown",
      "metadata": {
        "id": "03KUo_Niww15",
        "colab_type": "text"
      },
      "source": [
        "Now as we have our padded sequences of comments vector where at each word position thre is index corresponding to the word\n",
        "\n",
        "Now we will be creating the embedding layer(input will go to embedding layer befor being fed to RNN unit or CNN unit)"
      ]
    },
    {
      "cell_type": "code",
      "metadata": {
        "id": "AI7_kjbVxTHY",
        "colab_type": "code",
        "colab": {}
      },
      "source": [
        "from keras.layers import Embedding\n",
        "embedding_layer = Embedding(num_words,Embedding_dim,weights = [embedding_matrix],input_length = Max_sequence_length,trainable = False)"
      ],
      "execution_count": 0,
      "outputs": []
    },
    {
      "cell_type": "markdown",
      "metadata": {
        "id": "YcMJaNaEyb4m",
        "colab_type": "text"
      },
      "source": [
        "Basically setting trainable to false means that we are going to take the pretrained weights(embedding vectors) and not training them and also we can set trainable to true but actually there is no need as these embedding are quite good have been trained on a very huge corpus from wikipedia and on a large cluster size which aren't possible on a single system "
      ]
    },
    {
      "cell_type": "markdown",
      "metadata": {
        "id": "sX-BkCDDy4dz",
        "colab_type": "text"
      },
      "source": [
        "Now lets build the model and there can be lots and lots of architecture which we can use for this task and compare their accuracy"
      ]
    },
    {
      "cell_type": "code",
      "metadata": {
        "id": "l4rAWYgNxA7I",
        "colab_type": "code",
        "colab": {}
      },
      "source": [
        "from keras.layers import Input,LSTM,GRU,GlobalMaxPooling1D,Dense\n",
        "from keras.models import Model\n",
        "input_ = Input(shape=(Max_sequence_length,))\n",
        "x = embedding_layer(input_)\n",
        "x = LSTM(80,return_sequences = True)(x)\n",
        "x = GlobalMaxPooling1D()(x)\n",
        "#Output layer with six neurons as we have six labels in output\n",
        "output = Dense(6,activation = \"sigmoid\")(x)\n",
        "#Output will be as six binary classifications when we take take 6 dense output layer insted of 1 layer with 6 nodes\n",
        "model = Model(input_,output)"
      ],
      "execution_count": 0,
      "outputs": []
    },
    {
      "cell_type": "markdown",
      "metadata": {
        "id": "R9PyzRxkVKm3",
        "colab_type": "text"
      },
      "source": [
        "if we use 6 output layer then our output will contain 6 outputs fed by the embedding layer and our output label will be seperate for the target variable target1 to target 6 for each label will be fed to the model\n",
        "\n",
        "output1 = Dense(1, activation=\"sigmoid\")(x)\n",
        "\n",
        "output2 = Dense(1, activation=\"sigmoid\")(x)\n",
        "\n",
        "output3 = Dense(1, activation=\"sigmoid\")(x)\n",
        "\n",
        "output4 = Dense(1, activation=\"sigmoid\")(x)\n",
        "\n",
        "output5 = Dense(1, activation=\"sigmoid\")(x)\n",
        "\n",
        "output6 = Dense(1, activation=\"sigmoid\")(x)"
      ]
    },
    {
      "cell_type": "code",
      "metadata": {
        "id": "SmMfJ5lCe04G",
        "colab_type": "code",
        "colab": {}
      },
      "source": [
        "#Now compiling the model\n",
        "model.compile(loss = \"binary_crossentropy\",optimizer = \"rmsprop\",metrics = [\"accuracy\"])"
      ],
      "execution_count": 0,
      "outputs": []
    },
    {
      "cell_type": "code",
      "metadata": {
        "id": "KKs6oR4kjHfL",
        "colab_type": "code",
        "colab": {
          "base_uri": "https://localhost:8080/",
          "height": 219
        },
        "outputId": "affd30bb-4308-45c6-c2dd-2910b44b6e96"
      },
      "source": [
        "#Now fitting the model on the input and output data\n",
        "ht = model.fit(comment_sen,target,batch_size = 128,epochs = 5,validation_split = 0.2)"
      ],
      "execution_count": 20,
      "outputs": [
        {
          "output_type": "stream",
          "text": [
            "Train on 127656 samples, validate on 31915 samples\n",
            "Epoch 1/5\n",
            "127656/127656 [==============================] - 241s 2ms/step - loss: 0.0774 - accuracy: 0.9747 - val_loss: 0.0609 - val_accuracy: 0.9789\n",
            "Epoch 2/5\n",
            "127656/127656 [==============================] - 237s 2ms/step - loss: 0.0558 - accuracy: 0.9803 - val_loss: 0.0568 - val_accuracy: 0.9796\n",
            "Epoch 3/5\n",
            "127656/127656 [==============================] - 241s 2ms/step - loss: 0.0515 - accuracy: 0.9815 - val_loss: 0.0531 - val_accuracy: 0.9809\n",
            "Epoch 4/5\n",
            "127656/127656 [==============================] - 237s 2ms/step - loss: 0.0487 - accuracy: 0.9822 - val_loss: 0.0515 - val_accuracy: 0.9812\n",
            "Epoch 5/5\n",
            "127656/127656 [==============================] - 239s 2ms/step - loss: 0.0467 - accuracy: 0.9828 - val_loss: 0.0516 - val_accuracy: 0.9809\n"
          ],
          "name": "stdout"
        }
      ]
    },
    {
      "cell_type": "markdown",
      "metadata": {
        "id": "fVj9BrUK2maP",
        "colab_type": "text"
      },
      "source": [
        "Plotting the loss and accuracy curve"
      ]
    },
    {
      "cell_type": "code",
      "metadata": {
        "id": "12TXhlYUeAj9",
        "colab_type": "code",
        "outputId": "5509f9f9-b3f2-4834-fa8b-0616ec45c05e",
        "colab": {
          "base_uri": "https://localhost:8080/",
          "height": 265
        }
      },
      "source": [
        "plt.plot(ht.history[\"loss\"],label = \"loss\")\n",
        "plt.plot(ht.history[\"val_loss\"],label = \"validation loss\")\n",
        "plt.legend()\n",
        "plt.show()"
      ],
      "execution_count": 21,
      "outputs": [
        {
          "output_type": "display_data",
          "data": {
            "image/png": "[encoded data removed]",
            "text/plain": [
              "<Figure size 432x288 with 1 Axes>"
            ]
          },
          "metadata": {
            "tags": [],
            "needs_background": "light"
          }
        }
      ]
    },
    {
      "cell_type": "code",
      "metadata": {
        "id": "OASALMdOAYMc",
        "colab_type": "code",
        "outputId": "154cccdb-6adb-4222-b4e3-75771e7a9cff",
        "colab": {
          "base_uri": "https://localhost:8080/",
          "height": 265
        }
      },
      "source": [
        "plt.plot(ht.history[\"accuracy\"],label = \"accuracy\")\n",
        "plt.plot(ht.history[\"val_accuracy\"],label = \"validation accuracy\")\n",
        "plt.legend()\n",
        "plt.show()"
      ],
      "execution_count": 22,
      "outputs": [
        {
          "output_type": "display_data",
          "data": {
            "image/png": "[encoded data removed]",
            "text/plain": [
              "<Figure size 432x288 with 1 Axes>"
            ]
          },
          "metadata": {
            "tags": [],
            "needs_background": "light"
          }
        }
      ]
    },
    {
      "cell_type": "code",
      "metadata": {
        "id": "NPQsxKZyAn23",
        "colab_type": "code",
        "outputId": "49b3419e-9ce1-41c9-8200-11665a437236",
        "colab": {
          "base_uri": "https://localhost:8080/",
          "height": 35
        }
      },
      "source": [
        "from sklearn.metrics import roc_auc_score\n",
        "#Plotting the mean auc for each label\n",
        "p_d = model.predict(comment_sen)\n",
        "aucs=[]\n",
        "for i in range(6):\n",
        "  auc = roc_auc_score(target[:,i],p_d[:,i])\n",
        "  aucs.append(auc)\n",
        "print(np.mean(aucs))"
      ],
      "execution_count": 23,
      "outputs": [
        {
          "output_type": "stream",
          "text": [
            "0.9828259625930905\n"
          ],
          "name": "stdout"
        }
      ]
    },
    {
      "cell_type": "code",
      "metadata": {
        "id": "JMW0hTcxDxvR",
        "colab_type": "code",
        "colab": {}
      },
      "source": [
        "#Saving the model\n",
        "model.save(\"model_LSTM.h5\")"
      ],
      "execution_count": 0,
      "outputs": []
    },
    {
      "cell_type": "code",
      "metadata": {
        "id": "Qi2n6ej0D_b0",
        "colab_type": "code",
        "outputId": "6551db01-6933-472e-d386-37992d71c779",
        "colab": {
          "base_uri": "https://localhost:8080/",
          "height": 348
        }
      },
      "source": [
        "#Loading the model for evaluating it on test data\n",
        "from numpy import loadtxt\n",
        "from keras.models import load_model\n",
        "model = load_model(\"model_LSTM.h5\")\n",
        "model.summary()"
      ],
      "execution_count": 25,
      "outputs": [
        {
          "output_type": "stream",
          "text": [
            "Model: \"model_1\"\n",
            "_________________________________________________________________\n",
            "Layer (type)                 Output Shape              Param #   \n",
            "=================================================================\n",
            "input_1 (InputLayer)         (None, 100)               0         \n",
            "_________________________________________________________________\n",
            "embedding_1 (Embedding)      (None, 100, 100)          2000000   \n",
            "_________________________________________________________________\n",
            "lstm_1 (LSTM)                (None, 100, 80)           57920     \n",
            "_________________________________________________________________\n",
            "global_max_pooling1d_1 (Glob (None, 80)                0         \n",
            "_________________________________________________________________\n",
            "dense_1 (Dense)              (None, 6)                 486       \n",
            "=================================================================\n",
            "Total params: 2,058,406\n",
            "Trainable params: 58,406\n",
            "Non-trainable params: 2,000,000\n",
            "_________________________________________________________________\n"
          ],
          "name": "stdout"
        }
      ]
    },
    {
      "cell_type": "code",
      "metadata": {
        "id": "Wk7_oJ7kEpXW",
        "colab_type": "code",
        "colab": {}
      },
      "source": [
        ""
      ],
      "execution_count": 0,
      "outputs": []
    }
  ]
}